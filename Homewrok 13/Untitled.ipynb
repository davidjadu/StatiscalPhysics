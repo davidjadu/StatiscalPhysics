{
 "cells": [
  {
   "cell_type": "code",
   "execution_count": 3,
   "metadata": {
    "collapsed": false
   },
   "outputs": [
    {
     "name": "stdout",
     "output_type": "stream",
     "text": [
      "Populating the interactive namespace from numpy and matplotlib\n"
     ]
    }
   ],
   "source": [
    "%pylab inline"
   ]
  },
  {
   "cell_type": "markdown",
   "metadata": {},
   "source": [
    "# Naive enumeration"
   ]
  },
  {
   "cell_type": "code",
   "execution_count": 20,
   "metadata": {
    "collapsed": true
   },
   "outputs": [],
   "source": [
    "E = [0] + 3 * [1] + 6 * [2] + 10 * [3] + 15 * [4]\n",
    "N0vec = []\n",
    "Tvec = []\n",
    "Ztot=[]"
   ]
  },
  {
   "cell_type": "code",
   "execution_count": 21,
   "metadata": {
    "collapsed": false
   },
   "outputs": [],
   "source": [
    "for T in numpy.arange(0.1, 1.5, 0.1):\n",
    "    Tvec.append(T)\n",
    "    Z = 0.0\n",
    "    N0mean = 0.0\n",
    "    beta = 1.0 / T\n",
    "    for s1 in range(35):\n",
    "        for s2 in range(s1, 35):\n",
    "            for s3 in range(s2, 35):\n",
    "                for s4 in range(s3, 35):\n",
    "                    for s5 in range(s4, 35):\n",
    "                        Etot=E[s1] + E[s2] + E[s3] + E[s4] + E[s5]\n",
    "                        svec = [s1, s2, s3, s4, s5]\n",
    "                        N0mean += svec.count(0) * math.exp(-beta * Etot)\n",
    "                        Z += math.exp( -beta * Etot)\n",
    "    Ztot.append(Z)\n",
    "    N0vec.append(N0mean / Z / 5.0)"
   ]
  },
  {
   "cell_type": "code",
   "execution_count": 22,
   "metadata": {
    "collapsed": false
   },
   "outputs": [
    {
     "data": {
      "image/png": "[encoded data removed]",
      "text/plain": [
       "<matplotlib.figure.Figure at 0x26c7c1bd0f0>"
      ]
     },
     "metadata": {},
     "output_type": "display_data"
    }
   ],
   "source": [
    "pylab.plot(Tvec, N0vec, 'r-')\n",
    "pylab.title('Naive $N=5$ 5-boson trap model')\n",
    "pylab.xlabel('$T$')\n",
    "pylab.ylabel('$N_0 / N $')\n",
    "pylab.show()"
   ]
  },
  {
   "cell_type": "code",
   "execution_count": 35,
   "metadata": {
    "collapsed": true
   },
   "outputs": [],
   "source": [
    "N0vec = []\n",
    "dos = [1, 3, 6, 10, 15]\n",
    "eps = 0.001\n",
    "dellambda = 0.01\n",
    "complexi = complex(0.0, 1.0)\n",
    "Ztot2=[]"
   ]
  },
  {
   "cell_type": "code",
   "execution_count": 36,
   "metadata": {
    "collapsed": false
   },
   "outputs": [],
   "source": [
    "for T in Tvec:\n",
    "    Zint=complex(0.0,0.0)\n",
    "    beta = 1.0 / T\n",
    "    oldl = complex(-math.pi, eps)\n",
    "    for RL in numpy.arange(-math.pi, math.pi, 0.00001):\n",
    "        newl = RL + eps * complexi\n",
    "        integrand = exp(-complexi * 5 * newl)\n",
    "        for E in range(5):\n",
    "            integrand /= (1.0 - exp( - beta * E + complexi * newl)) ** dos[E]\n",
    "        Zint += integrand * (newl - oldl) / (2.0 * math.pi)\n",
    "        oldl = newl\n",
    "    Ztot2.append(Zint)"
   ]
  },
  {
   "cell_type": "code",
   "execution_count": 33,
   "metadata": {
    "collapsed": false
   },
   "outputs": [
    {
     "data": {
      "text/plain": [
       "[1.000136224526684,\n",
       " 1.0207705099637532,\n",
       " 1.1242278972612432,\n",
       " 1.3548875017920095,\n",
       " 1.7802348636085865,\n",
       " 2.535546223596034,\n",
       " 3.8732495947558716,\n",
       " 6.236889859832073,\n",
       " 10.359307259678479,\n",
       " 17.373297218268803,\n",
       " 28.915064997929925,\n",
       " 47.199028344469035,\n",
       " 75.04767620163041,\n",
       " 115.86961428002716]"
      ]
     },
     "execution_count": 33,
     "metadata": {},
     "output_type": "execute_result"
    }
   ],
   "source": [
    "Ztot"
   ]
  },
  {
   "cell_type": "code",
   "execution_count": 44,
   "metadata": {
    "collapsed": false
   },
   "outputs": [
    {
     "data": {
      "text/plain": [
       "[<matplotlib.lines.Line2D at 0x26c7c3c1128>]"
      ]
     },
     "execution_count": 44,
     "metadata": {},
     "output_type": "execute_result"
    },
    {
     "data": {
      "image/png": "[encoded data removed]",
      "text/plain": [
       "<matplotlib.figure.Figure at 0x26c7c3c1b38>"
      ]
     },
     "metadata": {},
     "output_type": "display_data"
    }
   ],
   "source": [
    "plot(Tvec,Ztot)\n",
    "plot(Tvec,real(Ztot2))"
   ]
  },
  {
   "cell_type": "code",
   "execution_count": 47,
   "metadata": {
    "collapsed": false
   },
   "outputs": [
    {
     "data": {
      "text/plain": [
       "<matplotlib.collections.PathCollection at 0x26c7bf27a90>"
      ]
     },
     "execution_count": 47,
     "metadata": {},
     "output_type": "execute_result"
    },
    {
     "data": {
      "image/png": "[encoded data removed]",
      "text/plain": [
       "<matplotlib.figure.Figure at 0x26c7b61a780>"
      ]
     },
     "metadata": {},
     "output_type": "display_data"
    }
   ],
   "source": [
    "scatter(Tvec,abs(Ztot-real(Ztot2)))"
   ]
  },
  {
   "cell_type": "code",
   "execution_count": null,
   "metadata": {
    "collapsed": true
   },
   "outputs": [],
   "source": []
  }
 ],
 "metadata": {
  "kernelspec": {
   "display_name": "Python 3",
   "language": "python",
   "name": "python3"
  },
  "language_info": {
   "codemirror_mode": {
    "name": "ipython",
    "version": 3
   },
   "file_extension": ".py",
   "mimetype": "text/x-python",
   "name": "python",
   "nbconvert_exporter": "python",
   "pygments_lexer": "ipython3",
   "version": "3.6.0"
  }
 },
 "nbformat": 4,
 "nbformat_minor": 2
}
